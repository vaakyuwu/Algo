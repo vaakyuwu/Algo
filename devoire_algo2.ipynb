{
 "cells": [
  {
   "cell_type": "code",
   "execution_count": null,
   "metadata": {},
   "outputs": [],
   "source": [
    "def tasmax(heap, n, i):\n",
    "    root = i\n",
    "\n",
    "    while True:\n",
    "        left = 2 * root + 1\n",
    "        right = 2 * root + 2\n",
    "        largest = root\n",
    "\n",
    "        if left < n and heap[left] > heap[largest]:\n",
    "            largest = left\n",
    "\n",
    "        if right < n and heap[right] > heap[largest]:\n",
    "            largest = right\n",
    "\n",
    "        if largest != root:\n",
    "            heap[root], heap[largest] = heap[largest], heap[root]\n",
    "            root = largest  \n",
    "        else:\n",
    "            break  \n",
    "def construiretasmax(heap):\n",
    "    n = len(heap)\n",
    "\n",
    "    for i in range(n // 2 - 1, -1, -1):\n",
    "        tasmax(heap, n, i)"
   ]
  },
  {
   "cell_type": "code",
   "execution_count": 11,
   "metadata": {},
   "outputs": [
    {
     "name": "stdout",
     "output_type": "stream",
     "text": [
      "Original VECTEUR:\n",
      "[13, 22, 5, 18, 20, 25, 40, 30, 35, 12]\n",
      "TASMAX:\n",
      "[40, 35, 25, 30, 20, 13, 5, 22, 18, 12]\n"
     ]
    }
   ],
   "source": [
    "array = [13, 22, 5, 18, 20, 25, 40, 30, 35, 12]\n",
    "    \n",
    "print(\"Original VECTEUR:\")\n",
    "print(array)\n",
    "print(\"TASMAX:\")\n",
    "construiretasmax(array)\n",
    "print(array)"
   ]
  },
  {
   "cell_type": "code",
   "execution_count": 12,
   "metadata": {},
   "outputs": [
    {
     "name": "stdout",
     "output_type": "stream",
     "text": [
      "Tableau trié : [1, 3, 4, 5, 10]\n"
     ]
    }
   ],
   "source": [
    "def TriParTas(array):\n",
    "    n = len(array)\n",
    "    construiretasmax(array)\n",
    "    for i in range(n - 1, 0, -1):\n",
    "        array[0], array[i] = array[i], array[0]\n",
    "        tasmax(array, i, 0)\n",
    "array = [4, 10, 3, 5, 1]\n",
    "TriParTas(array)\n",
    "print(\"Tableau trié :\", array)"
   ]
  }
 ],
 "metadata": {
  "kernelspec": {
   "display_name": "Python 3",
   "language": "python",
   "name": "python3"
  },
  "language_info": {
   "codemirror_mode": {
    "name": "ipython",
    "version": 3
   },
   "file_extension": ".py",
   "mimetype": "text/x-python",
   "name": "python",
   "nbconvert_exporter": "python",
   "pygments_lexer": "ipython3",
   "version": "3.12.2"
  }
 },
 "nbformat": 4,
 "nbformat_minor": 2
}
